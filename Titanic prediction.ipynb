{
 "cells": [
  {
   "cell_type": "code",
   "execution_count": 1,
   "id": "bfae433c",
   "metadata": {
    "_cell_guid": "b1076dfc-b9ad-4769-8c92-a6c4dae69d19",
    "_uuid": "8f2839f25d086af736a60e9eeb907d3b93b6e0e5",
    "execution": {
     "iopub.execute_input": "2024-07-19T10:44:41.540751Z",
     "iopub.status.busy": "2024-07-19T10:44:41.540304Z",
     "iopub.status.idle": "2024-07-19T10:44:42.709593Z",
     "shell.execute_reply": "2024-07-19T10:44:42.708205Z"
    },
    "papermill": {
     "duration": 1.18225,
     "end_time": "2024-07-19T10:44:42.712810",
     "exception": false,
     "start_time": "2024-07-19T10:44:41.530560",
     "status": "completed"
    },
    "tags": []
   },
   "outputs": [
    {
     "name": "stdout",
     "output_type": "stream",
     "text": [
      "/kaggle/input/titanic/train.csv\n",
      "/kaggle/input/titanic/test.csv\n",
      "/kaggle/input/titanic/gender_submission.csv\n"
     ]
    }
   ],
   "source": [
    "# This Python 3 environment comes with many helpful analytics libraries installed\n",
    "# It is defined by the kaggle/python Docker image: https://github.com/kaggle/docker-python\n",
    "# For example, here's several helpful packages to load\n",
    "\n",
    "import numpy as np # linear algebra\n",
    "import pandas as pd # data processing, CSV file I/O (e.g. pd.read_csv)\n",
    "\n",
    "# Input data files are available in the read-only \"../input/\" directory\n",
    "# For example, running this (by clicking run or pressing Shift+Enter) will list all files under the input directory\n",
    "\n",
    "import os\n",
    "for dirname, _, filenames in os.walk('/kaggle/input'):\n",
    "    for filename in filenames:\n",
    "        print(os.path.join(dirname, filename))\n",
    "\n",
    "# You can write up to 20GB to the current directory (/kaggle/working/) that gets preserved as output when you create a version using \"Save & Run All\" \n",
    "# You can also write temporary files to /kaggle/temp/, but they won't be saved outside of the current session"
   ]
  },
  {
   "cell_type": "markdown",
   "id": "53e1110d",
   "metadata": {
    "papermill": {
     "duration": 0.007655,
     "end_time": "2024-07-19T10:44:42.728414",
     "exception": false,
     "start_time": "2024-07-19T10:44:42.720759",
     "status": "completed"
    },
    "tags": []
   },
   "source": [
    "## Introduction\n",
    "\n",
    "This notebook focuses on analyzing the Titanic dataset and building predictive models to determine the survival of passengers. We will start by loading the necessary libraries and datasets.\n",
    "\n",
    "## Loading Libraries and Dataset\n",
    "\n",
    "In this step, we will load the necessary Python libraries and the Titanic dataset.\n",
    "\n",
    "1. **Loading Libraries**:\n",
    "   - We use `numpy` for numerical operations and `pandas` for data manipulation and analysis.\n",
    "   - We also list the files available in the `/kaggle/input` directory to verify the dataset files.\n",
    "2. **Loading the Titanic Dataset**:\n",
    "   - We use `pandas` to read the Titanic dataset from the specified file path.\n",
    "   - We will display the first few rows to understand the structure and content of the dataset.\n"
   ]
  },
  {
   "cell_type": "markdown",
   "id": "64ca40de",
   "metadata": {
    "papermill": {
     "duration": 0.007012,
     "end_time": "2024-07-19T10:44:42.742780",
     "exception": false,
     "start_time": "2024-07-19T10:44:42.735768",
     "status": "completed"
    },
    "tags": []
   },
   "source": [
    "## Load and Preprocess Data\n",
    "\n",
    "In this step, we will load and preprocess both the training and test datasets.\n",
    "\n",
    "### 1. Load Training Data\n",
    "First, we load the training data and display the first few rows.\n"
   ]
  },
  {
   "cell_type": "code",
   "execution_count": 2,
   "id": "766093b4",
   "metadata": {
    "execution": {
     "iopub.execute_input": "2024-07-19T10:44:42.760880Z",
     "iopub.status.busy": "2024-07-19T10:44:42.760341Z",
     "iopub.status.idle": "2024-07-19T10:44:42.811970Z",
     "shell.execute_reply": "2024-07-19T10:44:42.810773Z"
    },
    "papermill": {
     "duration": 0.064407,
     "end_time": "2024-07-19T10:44:42.814659",
     "exception": false,
     "start_time": "2024-07-19T10:44:42.750252",
     "status": "completed"
    },
    "tags": []
   },
   "outputs": [
    {
     "data": {
      "text/html": [
       "<div>\n",
       "<style scoped>\n",
       "    .dataframe tbody tr th:only-of-type {\n",
       "        vertical-align: middle;\n",
       "    }\n",
       "\n",
       "    .dataframe tbody tr th {\n",
       "        vertical-align: top;\n",
       "    }\n",
       "\n",
       "    .dataframe thead th {\n",
       "        text-align: right;\n",
       "    }\n",
       "</style>\n",
       "<table border=\"1\" class=\"dataframe\">\n",
       "  <thead>\n",
       "    <tr style=\"text-align: right;\">\n",
       "      <th></th>\n",
       "      <th>PassengerId</th>\n",
       "      <th>Survived</th>\n",
       "      <th>Pclass</th>\n",
       "      <th>Name</th>\n",
       "      <th>Sex</th>\n",
       "      <th>Age</th>\n",
       "      <th>SibSp</th>\n",
       "      <th>Parch</th>\n",
       "      <th>Ticket</th>\n",
       "      <th>Fare</th>\n",
       "      <th>Cabin</th>\n",
       "      <th>Embarked</th>\n",
       "    </tr>\n",
       "  </thead>\n",
       "  <tbody>\n",
       "    <tr>\n",
       "      <th>0</th>\n",
       "      <td>1</td>\n",
       "      <td>0</td>\n",
       "      <td>3</td>\n",
       "      <td>Braund, Mr. Owen Harris</td>\n",
       "      <td>male</td>\n",
       "      <td>22.0</td>\n",
       "      <td>1</td>\n",
       "      <td>0</td>\n",
       "      <td>A/5 21171</td>\n",
       "      <td>7.2500</td>\n",
       "      <td>NaN</td>\n",
       "      <td>S</td>\n",
       "    </tr>\n",
       "    <tr>\n",
       "      <th>1</th>\n",
       "      <td>2</td>\n",
       "      <td>1</td>\n",
       "      <td>1</td>\n",
       "      <td>Cumings, Mrs. John Bradley (Florence Briggs Th...</td>\n",
       "      <td>female</td>\n",
       "      <td>38.0</td>\n",
       "      <td>1</td>\n",
       "      <td>0</td>\n",
       "      <td>PC 17599</td>\n",
       "      <td>71.2833</td>\n",
       "      <td>C85</td>\n",
       "      <td>C</td>\n",
       "    </tr>\n",
       "    <tr>\n",
       "      <th>2</th>\n",
       "      <td>3</td>\n",
       "      <td>1</td>\n",
       "      <td>3</td>\n",
       "      <td>Heikkinen, Miss. Laina</td>\n",
       "      <td>female</td>\n",
       "      <td>26.0</td>\n",
       "      <td>0</td>\n",
       "      <td>0</td>\n",
       "      <td>STON/O2. 3101282</td>\n",
       "      <td>7.9250</td>\n",
       "      <td>NaN</td>\n",
       "      <td>S</td>\n",
       "    </tr>\n",
       "    <tr>\n",
       "      <th>3</th>\n",
       "      <td>4</td>\n",
       "      <td>1</td>\n",
       "      <td>1</td>\n",
       "      <td>Futrelle, Mrs. Jacques Heath (Lily May Peel)</td>\n",
       "      <td>female</td>\n",
       "      <td>35.0</td>\n",
       "      <td>1</td>\n",
       "      <td>0</td>\n",
       "      <td>113803</td>\n",
       "      <td>53.1000</td>\n",
       "      <td>C123</td>\n",
       "      <td>S</td>\n",
       "    </tr>\n",
       "    <tr>\n",
       "      <th>4</th>\n",
       "      <td>5</td>\n",
       "      <td>0</td>\n",
       "      <td>3</td>\n",
       "      <td>Allen, Mr. William Henry</td>\n",
       "      <td>male</td>\n",
       "      <td>35.0</td>\n",
       "      <td>0</td>\n",
       "      <td>0</td>\n",
       "      <td>373450</td>\n",
       "      <td>8.0500</td>\n",
       "      <td>NaN</td>\n",
       "      <td>S</td>\n",
       "    </tr>\n",
       "  </tbody>\n",
       "</table>\n",
       "</div>"
      ],
      "text/plain": [
       "   PassengerId  Survived  Pclass  \\\n",
       "0            1         0       3   \n",
       "1            2         1       1   \n",
       "2            3         1       3   \n",
       "3            4         1       1   \n",
       "4            5         0       3   \n",
       "\n",
       "                                                Name     Sex   Age  SibSp  \\\n",
       "0                            Braund, Mr. Owen Harris    male  22.0      1   \n",
       "1  Cumings, Mrs. John Bradley (Florence Briggs Th...  female  38.0      1   \n",
       "2                             Heikkinen, Miss. Laina  female  26.0      0   \n",
       "3       Futrelle, Mrs. Jacques Heath (Lily May Peel)  female  35.0      1   \n",
       "4                           Allen, Mr. William Henry    male  35.0      0   \n",
       "\n",
       "   Parch            Ticket     Fare Cabin Embarked  \n",
       "0      0         A/5 21171   7.2500   NaN        S  \n",
       "1      0          PC 17599  71.2833   C85        C  \n",
       "2      0  STON/O2. 3101282   7.9250   NaN        S  \n",
       "3      0            113803  53.1000  C123        S  \n",
       "4      0            373450   8.0500   NaN        S  "
      ]
     },
     "execution_count": 2,
     "metadata": {},
     "output_type": "execute_result"
    }
   ],
   "source": [
    "train_data = pd.read_csv(\"/kaggle/input/titanic/train.csv\")\n",
    "train_data.head(5)"
   ]
  },
  {
   "cell_type": "markdown",
   "id": "9d6fd08f",
   "metadata": {
    "papermill": {
     "duration": 0.007587,
     "end_time": "2024-07-19T10:44:42.830117",
     "exception": false,
     "start_time": "2024-07-19T10:44:42.822530",
     "status": "completed"
    },
    "tags": []
   },
   "source": [
    "### 2. Load Test Data\n",
    "Next, we load the test data and display the first few rows.\n"
   ]
  },
  {
   "cell_type": "code",
   "execution_count": 3,
   "id": "349a6de5",
   "metadata": {
    "execution": {
     "iopub.execute_input": "2024-07-19T10:44:42.849005Z",
     "iopub.status.busy": "2024-07-19T10:44:42.847730Z",
     "iopub.status.idle": "2024-07-19T10:44:42.875563Z",
     "shell.execute_reply": "2024-07-19T10:44:42.874147Z"
    },
    "papermill": {
     "duration": 0.040723,
     "end_time": "2024-07-19T10:44:42.878603",
     "exception": false,
     "start_time": "2024-07-19T10:44:42.837880",
     "status": "completed"
    },
    "tags": []
   },
   "outputs": [
    {
     "data": {
      "text/html": [
       "<div>\n",
       "<style scoped>\n",
       "    .dataframe tbody tr th:only-of-type {\n",
       "        vertical-align: middle;\n",
       "    }\n",
       "\n",
       "    .dataframe tbody tr th {\n",
       "        vertical-align: top;\n",
       "    }\n",
       "\n",
       "    .dataframe thead th {\n",
       "        text-align: right;\n",
       "    }\n",
       "</style>\n",
       "<table border=\"1\" class=\"dataframe\">\n",
       "  <thead>\n",
       "    <tr style=\"text-align: right;\">\n",
       "      <th></th>\n",
       "      <th>PassengerId</th>\n",
       "      <th>Pclass</th>\n",
       "      <th>Name</th>\n",
       "      <th>Sex</th>\n",
       "      <th>Age</th>\n",
       "      <th>SibSp</th>\n",
       "      <th>Parch</th>\n",
       "      <th>Ticket</th>\n",
       "      <th>Fare</th>\n",
       "      <th>Cabin</th>\n",
       "      <th>Embarked</th>\n",
       "    </tr>\n",
       "  </thead>\n",
       "  <tbody>\n",
       "    <tr>\n",
       "      <th>0</th>\n",
       "      <td>892</td>\n",
       "      <td>3</td>\n",
       "      <td>Kelly, Mr. James</td>\n",
       "      <td>male</td>\n",
       "      <td>34.5</td>\n",
       "      <td>0</td>\n",
       "      <td>0</td>\n",
       "      <td>330911</td>\n",
       "      <td>7.8292</td>\n",
       "      <td>NaN</td>\n",
       "      <td>Q</td>\n",
       "    </tr>\n",
       "    <tr>\n",
       "      <th>1</th>\n",
       "      <td>893</td>\n",
       "      <td>3</td>\n",
       "      <td>Wilkes, Mrs. James (Ellen Needs)</td>\n",
       "      <td>female</td>\n",
       "      <td>47.0</td>\n",
       "      <td>1</td>\n",
       "      <td>0</td>\n",
       "      <td>363272</td>\n",
       "      <td>7.0000</td>\n",
       "      <td>NaN</td>\n",
       "      <td>S</td>\n",
       "    </tr>\n",
       "    <tr>\n",
       "      <th>2</th>\n",
       "      <td>894</td>\n",
       "      <td>2</td>\n",
       "      <td>Myles, Mr. Thomas Francis</td>\n",
       "      <td>male</td>\n",
       "      <td>62.0</td>\n",
       "      <td>0</td>\n",
       "      <td>0</td>\n",
       "      <td>240276</td>\n",
       "      <td>9.6875</td>\n",
       "      <td>NaN</td>\n",
       "      <td>Q</td>\n",
       "    </tr>\n",
       "    <tr>\n",
       "      <th>3</th>\n",
       "      <td>895</td>\n",
       "      <td>3</td>\n",
       "      <td>Wirz, Mr. Albert</td>\n",
       "      <td>male</td>\n",
       "      <td>27.0</td>\n",
       "      <td>0</td>\n",
       "      <td>0</td>\n",
       "      <td>315154</td>\n",
       "      <td>8.6625</td>\n",
       "      <td>NaN</td>\n",
       "      <td>S</td>\n",
       "    </tr>\n",
       "    <tr>\n",
       "      <th>4</th>\n",
       "      <td>896</td>\n",
       "      <td>3</td>\n",
       "      <td>Hirvonen, Mrs. Alexander (Helga E Lindqvist)</td>\n",
       "      <td>female</td>\n",
       "      <td>22.0</td>\n",
       "      <td>1</td>\n",
       "      <td>1</td>\n",
       "      <td>3101298</td>\n",
       "      <td>12.2875</td>\n",
       "      <td>NaN</td>\n",
       "      <td>S</td>\n",
       "    </tr>\n",
       "  </tbody>\n",
       "</table>\n",
       "</div>"
      ],
      "text/plain": [
       "   PassengerId  Pclass                                          Name     Sex  \\\n",
       "0          892       3                              Kelly, Mr. James    male   \n",
       "1          893       3              Wilkes, Mrs. James (Ellen Needs)  female   \n",
       "2          894       2                     Myles, Mr. Thomas Francis    male   \n",
       "3          895       3                              Wirz, Mr. Albert    male   \n",
       "4          896       3  Hirvonen, Mrs. Alexander (Helga E Lindqvist)  female   \n",
       "\n",
       "    Age  SibSp  Parch   Ticket     Fare Cabin Embarked  \n",
       "0  34.5      0      0   330911   7.8292   NaN        Q  \n",
       "1  47.0      1      0   363272   7.0000   NaN        S  \n",
       "2  62.0      0      0   240276   9.6875   NaN        Q  \n",
       "3  27.0      0      0   315154   8.6625   NaN        S  \n",
       "4  22.0      1      1  3101298  12.2875   NaN        S  "
      ]
     },
     "execution_count": 3,
     "metadata": {},
     "output_type": "execute_result"
    }
   ],
   "source": [
    "test_data = pd.read_csv(\"/kaggle/input/titanic/test.csv\")\n",
    "test_data.head(5)"
   ]
  },
  {
   "cell_type": "markdown",
   "id": "7f515370",
   "metadata": {
    "papermill": {
     "duration": 0.008041,
     "end_time": "2024-07-19T10:44:42.895296",
     "exception": false,
     "start_time": "2024-07-19T10:44:42.887255",
     "status": "completed"
    },
    "tags": []
   },
   "source": [
    "### 3. Preprocess Data\n",
    "We need to preprocess both the training and test datasets. This includes handling missing values and encoding categorical variables.\n"
   ]
  },
  {
   "cell_type": "code",
   "execution_count": 4,
   "id": "1d2766f7",
   "metadata": {
    "execution": {
     "iopub.execute_input": "2024-07-19T10:44:42.913595Z",
     "iopub.status.busy": "2024-07-19T10:44:42.913160Z",
     "iopub.status.idle": "2024-07-19T10:44:42.955431Z",
     "shell.execute_reply": "2024-07-19T10:44:42.954107Z"
    },
    "papermill": {
     "duration": 0.054871,
     "end_time": "2024-07-19T10:44:42.958341",
     "exception": false,
     "start_time": "2024-07-19T10:44:42.903470",
     "status": "completed"
    },
    "tags": []
   },
   "outputs": [],
   "source": [
    "# Preprocess training data\n",
    "X_train_data = train_data.drop(['Survived', 'Name', 'Ticket', 'Cabin'], axis=1)\n",
    "X_train_data = pd.get_dummies(X_train_data, columns=['Sex', 'Embarked'], drop_first=True)\n",
    "X_train_data.fillna(X_train_data.mean(), inplace=True)\n",
    "y_train_data = train_data['Survived']\n",
    "\n",
    "# Preprocess test data\n",
    "X_test_data = test_data.drop(['Name', 'Ticket', 'Cabin'], axis=1)\n",
    "X_test_data = pd.get_dummies(X_test_data, columns=['Sex', 'Embarked'], drop_first=True)\n",
    "X_test_data.fillna(X_test_data.mean(), inplace=True)\n"
   ]
  },
  {
   "cell_type": "markdown",
   "id": "6d25853e",
   "metadata": {
    "papermill": {
     "duration": 0.008711,
     "end_time": "2024-07-19T10:44:42.975276",
     "exception": false,
     "start_time": "2024-07-19T10:44:42.966565",
     "status": "completed"
    },
    "tags": []
   },
   "source": [
    "## Exploratory Data Analysis (EDA)\n",
    "\n",
    "In this section, we will perform EDA to understand the data better. This involves summarizing the main characteristics of the dataset, identifying patterns, spotting anomalies, and testing hypotheses.\n",
    "\n",
    "### 1. Overview of the Dataset\n",
    "First, let's look at the structure and summary statistics of the dataset.\n"
   ]
  },
  {
   "cell_type": "code",
   "execution_count": 5,
   "id": "0c4b373e",
   "metadata": {
    "execution": {
     "iopub.execute_input": "2024-07-19T10:44:42.995321Z",
     "iopub.status.busy": "2024-07-19T10:44:42.994921Z",
     "iopub.status.idle": "2024-07-19T10:44:43.053458Z",
     "shell.execute_reply": "2024-07-19T10:44:43.052240Z"
    },
    "papermill": {
     "duration": 0.072211,
     "end_time": "2024-07-19T10:44:43.056012",
     "exception": false,
     "start_time": "2024-07-19T10:44:42.983801",
     "status": "completed"
    },
    "tags": []
   },
   "outputs": [
    {
     "data": {
      "text/html": [
       "<div>\n",
       "<style scoped>\n",
       "    .dataframe tbody tr th:only-of-type {\n",
       "        vertical-align: middle;\n",
       "    }\n",
       "\n",
       "    .dataframe tbody tr th {\n",
       "        vertical-align: top;\n",
       "    }\n",
       "\n",
       "    .dataframe thead th {\n",
       "        text-align: right;\n",
       "    }\n",
       "</style>\n",
       "<table border=\"1\" class=\"dataframe\">\n",
       "  <thead>\n",
       "    <tr style=\"text-align: right;\">\n",
       "      <th></th>\n",
       "      <th>PassengerId</th>\n",
       "      <th>Survived</th>\n",
       "      <th>Pclass</th>\n",
       "      <th>Name</th>\n",
       "      <th>Sex</th>\n",
       "      <th>Age</th>\n",
       "      <th>SibSp</th>\n",
       "      <th>Parch</th>\n",
       "      <th>Ticket</th>\n",
       "      <th>Fare</th>\n",
       "      <th>Cabin</th>\n",
       "      <th>Embarked</th>\n",
       "    </tr>\n",
       "  </thead>\n",
       "  <tbody>\n",
       "    <tr>\n",
       "      <th>count</th>\n",
       "      <td>891.000000</td>\n",
       "      <td>891.000000</td>\n",
       "      <td>891.000000</td>\n",
       "      <td>891</td>\n",
       "      <td>891</td>\n",
       "      <td>714.000000</td>\n",
       "      <td>891.000000</td>\n",
       "      <td>891.000000</td>\n",
       "      <td>891</td>\n",
       "      <td>891.000000</td>\n",
       "      <td>204</td>\n",
       "      <td>889</td>\n",
       "    </tr>\n",
       "    <tr>\n",
       "      <th>unique</th>\n",
       "      <td>NaN</td>\n",
       "      <td>NaN</td>\n",
       "      <td>NaN</td>\n",
       "      <td>891</td>\n",
       "      <td>2</td>\n",
       "      <td>NaN</td>\n",
       "      <td>NaN</td>\n",
       "      <td>NaN</td>\n",
       "      <td>681</td>\n",
       "      <td>NaN</td>\n",
       "      <td>147</td>\n",
       "      <td>3</td>\n",
       "    </tr>\n",
       "    <tr>\n",
       "      <th>top</th>\n",
       "      <td>NaN</td>\n",
       "      <td>NaN</td>\n",
       "      <td>NaN</td>\n",
       "      <td>Braund, Mr. Owen Harris</td>\n",
       "      <td>male</td>\n",
       "      <td>NaN</td>\n",
       "      <td>NaN</td>\n",
       "      <td>NaN</td>\n",
       "      <td>347082</td>\n",
       "      <td>NaN</td>\n",
       "      <td>B96 B98</td>\n",
       "      <td>S</td>\n",
       "    </tr>\n",
       "    <tr>\n",
       "      <th>freq</th>\n",
       "      <td>NaN</td>\n",
       "      <td>NaN</td>\n",
       "      <td>NaN</td>\n",
       "      <td>1</td>\n",
       "      <td>577</td>\n",
       "      <td>NaN</td>\n",
       "      <td>NaN</td>\n",
       "      <td>NaN</td>\n",
       "      <td>7</td>\n",
       "      <td>NaN</td>\n",
       "      <td>4</td>\n",
       "      <td>644</td>\n",
       "    </tr>\n",
       "    <tr>\n",
       "      <th>mean</th>\n",
       "      <td>446.000000</td>\n",
       "      <td>0.383838</td>\n",
       "      <td>2.308642</td>\n",
       "      <td>NaN</td>\n",
       "      <td>NaN</td>\n",
       "      <td>29.699118</td>\n",
       "      <td>0.523008</td>\n",
       "      <td>0.381594</td>\n",
       "      <td>NaN</td>\n",
       "      <td>32.204208</td>\n",
       "      <td>NaN</td>\n",
       "      <td>NaN</td>\n",
       "    </tr>\n",
       "    <tr>\n",
       "      <th>std</th>\n",
       "      <td>257.353842</td>\n",
       "      <td>0.486592</td>\n",
       "      <td>0.836071</td>\n",
       "      <td>NaN</td>\n",
       "      <td>NaN</td>\n",
       "      <td>14.526497</td>\n",
       "      <td>1.102743</td>\n",
       "      <td>0.806057</td>\n",
       "      <td>NaN</td>\n",
       "      <td>49.693429</td>\n",
       "      <td>NaN</td>\n",
       "      <td>NaN</td>\n",
       "    </tr>\n",
       "    <tr>\n",
       "      <th>min</th>\n",
       "      <td>1.000000</td>\n",
       "      <td>0.000000</td>\n",
       "      <td>1.000000</td>\n",
       "      <td>NaN</td>\n",
       "      <td>NaN</td>\n",
       "      <td>0.420000</td>\n",
       "      <td>0.000000</td>\n",
       "      <td>0.000000</td>\n",
       "      <td>NaN</td>\n",
       "      <td>0.000000</td>\n",
       "      <td>NaN</td>\n",
       "      <td>NaN</td>\n",
       "    </tr>\n",
       "    <tr>\n",
       "      <th>25%</th>\n",
       "      <td>223.500000</td>\n",
       "      <td>0.000000</td>\n",
       "      <td>2.000000</td>\n",
       "      <td>NaN</td>\n",
       "      <td>NaN</td>\n",
       "      <td>20.125000</td>\n",
       "      <td>0.000000</td>\n",
       "      <td>0.000000</td>\n",
       "      <td>NaN</td>\n",
       "      <td>7.910400</td>\n",
       "      <td>NaN</td>\n",
       "      <td>NaN</td>\n",
       "    </tr>\n",
       "    <tr>\n",
       "      <th>50%</th>\n",
       "      <td>446.000000</td>\n",
       "      <td>0.000000</td>\n",
       "      <td>3.000000</td>\n",
       "      <td>NaN</td>\n",
       "      <td>NaN</td>\n",
       "      <td>28.000000</td>\n",
       "      <td>0.000000</td>\n",
       "      <td>0.000000</td>\n",
       "      <td>NaN</td>\n",
       "      <td>14.454200</td>\n",
       "      <td>NaN</td>\n",
       "      <td>NaN</td>\n",
       "    </tr>\n",
       "    <tr>\n",
       "      <th>75%</th>\n",
       "      <td>668.500000</td>\n",
       "      <td>1.000000</td>\n",
       "      <td>3.000000</td>\n",
       "      <td>NaN</td>\n",
       "      <td>NaN</td>\n",
       "      <td>38.000000</td>\n",
       "      <td>1.000000</td>\n",
       "      <td>0.000000</td>\n",
       "      <td>NaN</td>\n",
       "      <td>31.000000</td>\n",
       "      <td>NaN</td>\n",
       "      <td>NaN</td>\n",
       "    </tr>\n",
       "    <tr>\n",
       "      <th>max</th>\n",
       "      <td>891.000000</td>\n",
       "      <td>1.000000</td>\n",
       "      <td>3.000000</td>\n",
       "      <td>NaN</td>\n",
       "      <td>NaN</td>\n",
       "      <td>80.000000</td>\n",
       "      <td>8.000000</td>\n",
       "      <td>6.000000</td>\n",
       "      <td>NaN</td>\n",
       "      <td>512.329200</td>\n",
       "      <td>NaN</td>\n",
       "      <td>NaN</td>\n",
       "    </tr>\n",
       "  </tbody>\n",
       "</table>\n",
       "</div>"
      ],
      "text/plain": [
       "        PassengerId    Survived      Pclass                     Name   Sex  \\\n",
       "count    891.000000  891.000000  891.000000                      891   891   \n",
       "unique          NaN         NaN         NaN                      891     2   \n",
       "top             NaN         NaN         NaN  Braund, Mr. Owen Harris  male   \n",
       "freq            NaN         NaN         NaN                        1   577   \n",
       "mean     446.000000    0.383838    2.308642                      NaN   NaN   \n",
       "std      257.353842    0.486592    0.836071                      NaN   NaN   \n",
       "min        1.000000    0.000000    1.000000                      NaN   NaN   \n",
       "25%      223.500000    0.000000    2.000000                      NaN   NaN   \n",
       "50%      446.000000    0.000000    3.000000                      NaN   NaN   \n",
       "75%      668.500000    1.000000    3.000000                      NaN   NaN   \n",
       "max      891.000000    1.000000    3.000000                      NaN   NaN   \n",
       "\n",
       "               Age       SibSp       Parch  Ticket        Fare    Cabin  \\\n",
       "count   714.000000  891.000000  891.000000     891  891.000000      204   \n",
       "unique         NaN         NaN         NaN     681         NaN      147   \n",
       "top            NaN         NaN         NaN  347082         NaN  B96 B98   \n",
       "freq           NaN         NaN         NaN       7         NaN        4   \n",
       "mean     29.699118    0.523008    0.381594     NaN   32.204208      NaN   \n",
       "std      14.526497    1.102743    0.806057     NaN   49.693429      NaN   \n",
       "min       0.420000    0.000000    0.000000     NaN    0.000000      NaN   \n",
       "25%      20.125000    0.000000    0.000000     NaN    7.910400      NaN   \n",
       "50%      28.000000    0.000000    0.000000     NaN   14.454200      NaN   \n",
       "75%      38.000000    1.000000    0.000000     NaN   31.000000      NaN   \n",
       "max      80.000000    8.000000    6.000000     NaN  512.329200      NaN   \n",
       "\n",
       "       Embarked  \n",
       "count       889  \n",
       "unique        3  \n",
       "top           S  \n",
       "freq        644  \n",
       "mean        NaN  \n",
       "std         NaN  \n",
       "min         NaN  \n",
       "25%         NaN  \n",
       "50%         NaN  \n",
       "75%         NaN  \n",
       "max         NaN  "
      ]
     },
     "execution_count": 5,
     "metadata": {},
     "output_type": "execute_result"
    }
   ],
   "source": [
    "# Display the first few rows of the training dataset\n",
    "train_data.head()\n",
    "\n",
    "# Display summary statistics\n",
    "train_data.describe(include='all')\n"
   ]
  },
  {
   "cell_type": "markdown",
   "id": "eca1414d",
   "metadata": {
    "papermill": {
     "duration": 0.008315,
     "end_time": "2024-07-19T10:44:43.072809",
     "exception": false,
     "start_time": "2024-07-19T10:44:43.064494",
     "status": "completed"
    },
    "tags": []
   },
   "source": [
    "### 2. Missing Values Analysis\n",
    "Let's analyze the missing values in the dataset and decide how to handle them.\n"
   ]
  },
  {
   "cell_type": "code",
   "execution_count": 6,
   "id": "4f29988c",
   "metadata": {
    "execution": {
     "iopub.execute_input": "2024-07-19T10:44:43.091853Z",
     "iopub.status.busy": "2024-07-19T10:44:43.091407Z",
     "iopub.status.idle": "2024-07-19T10:44:43.102339Z",
     "shell.execute_reply": "2024-07-19T10:44:43.101045Z"
    },
    "papermill": {
     "duration": 0.023431,
     "end_time": "2024-07-19T10:44:43.104865",
     "exception": false,
     "start_time": "2024-07-19T10:44:43.081434",
     "status": "completed"
    },
    "tags": []
   },
   "outputs": [
    {
     "data": {
      "text/plain": [
       "Age         177\n",
       "Cabin       687\n",
       "Embarked      2\n",
       "dtype: int64"
      ]
     },
     "execution_count": 6,
     "metadata": {},
     "output_type": "execute_result"
    }
   ],
   "source": [
    "# Checking for missing values\n",
    "missing_values = train_data.isnull().sum()\n",
    "missing_values[missing_values > 0]\n"
   ]
  },
  {
   "cell_type": "markdown",
   "id": "f59e9cd8",
   "metadata": {
    "papermill": {
     "duration": 0.008727,
     "end_time": "2024-07-19T10:44:43.122360",
     "exception": false,
     "start_time": "2024-07-19T10:44:43.113633",
     "status": "completed"
    },
    "tags": []
   },
   "source": [
    "### 3. Data Visualization\n",
    "We will visualize various features to understand their distribution and relationship with the survival of passengers.\n",
    "\n",
    "#### Survival Rate by Gender\n"
   ]
  },
  {
   "cell_type": "code",
   "execution_count": 7,
   "id": "16afe8ce",
   "metadata": {
    "execution": {
     "iopub.execute_input": "2024-07-19T10:44:43.143099Z",
     "iopub.status.busy": "2024-07-19T10:44:43.141987Z",
     "iopub.status.idle": "2024-07-19T10:44:45.299269Z",
     "shell.execute_reply": "2024-07-19T10:44:45.297940Z"
    },
    "papermill": {
     "duration": 2.17121,
     "end_time": "2024-07-19T10:44:45.303074",
     "exception": false,
     "start_time": "2024-07-19T10:44:43.131864",
     "status": "completed"
    },
    "tags": []
   },
   "outputs": [
    {
     "data": {
      "image/png": "[encoded data removed]",
      "text/plain": [
       "<Figure size 640x480 with 1 Axes>"
      ]
     },
     "metadata": {},
     "output_type": "display_data"
    }
   ],
   "source": [
    "import seaborn as sns\n",
    "import matplotlib.pyplot as plt\n",
    "\n",
    "# Survival rate by gender\n",
    "sns.barplot(x='Sex', y='Survived', data=train_data)\n",
    "plt.title('Survival Rate by Gender')\n",
    "plt.show()\n"
   ]
  },
  {
   "cell_type": "markdown",
   "id": "756e2ca9",
   "metadata": {
    "papermill": {
     "duration": 0.015129,
     "end_time": "2024-07-19T10:44:45.330536",
     "exception": false,
     "start_time": "2024-07-19T10:44:45.315407",
     "status": "completed"
    },
    "tags": []
   },
   "source": [
    "#### Survival Rate by Passenger Class\n"
   ]
  },
  {
   "cell_type": "code",
   "execution_count": 8,
   "id": "274a73f2",
   "metadata": {
    "execution": {
     "iopub.execute_input": "2024-07-19T10:44:45.359532Z",
     "iopub.status.busy": "2024-07-19T10:44:45.357209Z",
     "iopub.status.idle": "2024-07-19T10:44:45.771160Z",
     "shell.execute_reply": "2024-07-19T10:44:45.769813Z"
    },
    "papermill": {
     "duration": 0.430582,
     "end_time": "2024-07-19T10:44:45.773903",
     "exception": false,
     "start_time": "2024-07-19T10:44:45.343321",
     "status": "completed"
    },
    "tags": []
   },
   "outputs": [
    {
     "data": {
      "image/png": "[encoded data removed]",
      "text/plain": [
       "<Figure size 640x480 with 1 Axes>"
      ]
     },
     "metadata": {},
     "output_type": "display_data"
    }
   ],
   "source": [
    "# Survival rate by passenger class\n",
    "sns.barplot(x='Pclass', y='Survived', data=train_data)\n",
    "plt.title('Survival Rate by Passenger Class')\n",
    "plt.show()\n"
   ]
  },
  {
   "cell_type": "markdown",
   "id": "75c4d753",
   "metadata": {
    "papermill": {
     "duration": 0.009184,
     "end_time": "2024-07-19T10:44:45.792651",
     "exception": false,
     "start_time": "2024-07-19T10:44:45.783467",
     "status": "completed"
    },
    "tags": []
   },
   "source": [
    "#### Age Distribution of Survivors and Non-Survivors\n"
   ]
  },
  {
   "cell_type": "code",
   "execution_count": 9,
   "id": "da780490",
   "metadata": {
    "execution": {
     "iopub.execute_input": "2024-07-19T10:44:45.813773Z",
     "iopub.status.busy": "2024-07-19T10:44:45.813359Z",
     "iopub.status.idle": "2024-07-19T10:44:46.299216Z",
     "shell.execute_reply": "2024-07-19T10:44:46.298019Z"
    },
    "papermill": {
     "duration": 0.499769,
     "end_time": "2024-07-19T10:44:46.302064",
     "exception": false,
     "start_time": "2024-07-19T10:44:45.802295",
     "status": "completed"
    },
    "tags": []
   },
   "outputs": [
    {
     "name": "stderr",
     "output_type": "stream",
     "text": [
      "/opt/conda/lib/python3.10/site-packages/seaborn/_oldcore.py:1119: FutureWarning: use_inf_as_na option is deprecated and will be removed in a future version. Convert inf values to NaN before operating instead.\n",
      "  with pd.option_context('mode.use_inf_as_na', True):\n",
      "/opt/conda/lib/python3.10/site-packages/seaborn/_oldcore.py:1075: FutureWarning: When grouping with a length-1 list-like, you will need to pass a length-1 tuple to get_group in a future version of pandas. Pass `(name,)` instead of `name` to silence this warning.\n",
      "  data_subset = grouped_data.get_group(pd_key)\n",
      "/opt/conda/lib/python3.10/site-packages/seaborn/_oldcore.py:1075: FutureWarning: When grouping with a length-1 list-like, you will need to pass a length-1 tuple to get_group in a future version of pandas. Pass `(name,)` instead of `name` to silence this warning.\n",
      "  data_subset = grouped_data.get_group(pd_key)\n",
      "/opt/conda/lib/python3.10/site-packages/seaborn/_oldcore.py:1075: FutureWarning: When grouping with a length-1 list-like, you will need to pass a length-1 tuple to get_group in a future version of pandas. Pass `(name,)` instead of `name` to silence this warning.\n",
      "  data_subset = grouped_data.get_group(pd_key)\n"
     ]
    },
    {
     "data": {
      "image/png": "[encoded data removed]",
      "text/plain": [
       "<Figure size 640x480 with 1 Axes>"
      ]
     },
     "metadata": {},
     "output_type": "display_data"
    }
   ],
   "source": [
    "# Age distribution of survivors and non-survivors\n",
    "sns.histplot(data=train_data, x='Age', hue='Survived', multiple='stack')\n",
    "plt.title('Age Distribution of Survivors and Non-Survivors')\n",
    "plt.show()\n"
   ]
  },
  {
   "cell_type": "markdown",
   "id": "00951717",
   "metadata": {
    "papermill": {
     "duration": 0.009857,
     "end_time": "2024-07-19T10:44:46.322444",
     "exception": false,
     "start_time": "2024-07-19T10:44:46.312587",
     "status": "completed"
    },
    "tags": []
   },
   "source": [
    "## Train Models and Evaluate\n",
    "\n",
    "We will train several models using the training set and evaluate them using the validation set.\n"
   ]
  },
  {
   "cell_type": "code",
   "execution_count": 10,
   "id": "27232b3f",
   "metadata": {
    "execution": {
     "iopub.execute_input": "2024-07-19T10:44:46.345149Z",
     "iopub.status.busy": "2024-07-19T10:44:46.344686Z",
     "iopub.status.idle": "2024-07-19T10:44:46.352926Z",
     "shell.execute_reply": "2024-07-19T10:44:46.351732Z"
    },
    "papermill": {
     "duration": 0.022708,
     "end_time": "2024-07-19T10:44:46.355307",
     "exception": false,
     "start_time": "2024-07-19T10:44:46.332599",
     "status": "completed"
    },
    "tags": []
   },
   "outputs": [
    {
     "name": "stdout",
     "output_type": "stream",
     "text": [
      "% of women who survived: 0.7420382165605095\n"
     ]
    }
   ],
   "source": [
    "women = train_data.loc[train_data.Sex == 'female'][\"Survived\"]\n",
    "rate_women = sum(women)/len(women)\n",
    "\n",
    "print(\"% of women who survived:\", rate_women)"
   ]
  },
  {
   "cell_type": "code",
   "execution_count": 11,
   "id": "62ac09da",
   "metadata": {
    "execution": {
     "iopub.execute_input": "2024-07-19T10:44:46.377805Z",
     "iopub.status.busy": "2024-07-19T10:44:46.377405Z",
     "iopub.status.idle": "2024-07-19T10:44:46.386142Z",
     "shell.execute_reply": "2024-07-19T10:44:46.384815Z"
    },
    "papermill": {
     "duration": 0.022949,
     "end_time": "2024-07-19T10:44:46.388658",
     "exception": false,
     "start_time": "2024-07-19T10:44:46.365709",
     "status": "completed"
    },
    "tags": []
   },
   "outputs": [
    {
     "name": "stdout",
     "output_type": "stream",
     "text": [
      "% of men who survided: 0.18890814558058924\n"
     ]
    }
   ],
   "source": [
    "men = train_data.loc[train_data.Sex == 'male']['Survived']\n",
    "rate_men = sum(men)/len(men)\n",
    "\n",
    "print(\"% of men who survided:\", rate_men)"
   ]
  },
  {
   "cell_type": "code",
   "execution_count": 12,
   "id": "acd9f7fd",
   "metadata": {
    "execution": {
     "iopub.execute_input": "2024-07-19T10:44:46.411858Z",
     "iopub.status.busy": "2024-07-19T10:44:46.411436Z",
     "iopub.status.idle": "2024-07-19T10:44:47.542392Z",
     "shell.execute_reply": "2024-07-19T10:44:47.541115Z"
    },
    "papermill": {
     "duration": 1.146213,
     "end_time": "2024-07-19T10:44:47.545236",
     "exception": false,
     "start_time": "2024-07-19T10:44:46.399023",
     "status": "completed"
    },
    "tags": []
   },
   "outputs": [
    {
     "name": "stdout",
     "output_type": "stream",
     "text": [
      "Logistic Regression Accuracy: 0.7932960893854749\n",
      "Decision Tree Accuracy: 0.7932960893854749\n",
      "Random Forest Accuracy: 0.7932960893854749\n",
      "Gradient Boosting Accuracy: 0.770949720670391\n",
      "Your submissions were successfully saved!\n"
     ]
    }
   ],
   "source": [
    "import pandas as pd\n",
    "from sklearn.model_selection import train_test_split\n",
    "from sklearn.linear_model import LogisticRegression\n",
    "from sklearn.tree import DecisionTreeClassifier\n",
    "from sklearn.ensemble import RandomForestClassifier, GradientBoostingClassifier\n",
    "from sklearn.metrics import accuracy_score\n",
    "from sklearn.preprocessing import StandardScaler\n",
    "from sklearn.pipeline import Pipeline\n",
    "\n",
    "# Define features and target variable\n",
    "features = [\"Pclass\", \"Sex\", \"SibSp\", \"Parch\"]\n",
    "X = pd.get_dummies(train_data[features])\n",
    "X_test = pd.get_dummies(test_data[features])\n",
    "y = train_data[\"Survived\"]\n",
    "\n",
    "# Ensure that the training and testing sets have the same dummy variables\n",
    "X_test = X_test.reindex(columns=X.columns, fill_value=0)\n",
    "\n",
    "# Split the data into training and validation sets\n",
    "X_train, X_val, y_train, y_val = train_test_split(X, y, test_size=0.2, random_state=42)\n",
    "\n",
    "# Standardize the features by scaling them\n",
    "scaler = StandardScaler()\n",
    "\n",
    "# Logistic Regression with increased max_iter\n",
    "logreg = LogisticRegression(max_iter=1000, solver='lbfgs')\n",
    "pipeline_logreg = Pipeline(steps=[\n",
    "    ('scaler', scaler),\n",
    "    ('logreg', logreg)\n",
    "])\n",
    "pipeline_logreg.fit(X_train, y_train)\n",
    "y_pred_logreg = pipeline_logreg.predict(X_val)\n",
    "print(f'Logistic Regression Accuracy: {accuracy_score(y_val, y_pred_logreg)}')\n",
    "\n",
    "# Decision Tree\n",
    "tree = DecisionTreeClassifier(max_depth=5)\n",
    "tree.fit(X_train, y_train)\n",
    "y_pred_tree = tree.predict(X_val)\n",
    "print(f'Decision Tree Accuracy: {accuracy_score(y_val, y_pred_tree)}')\n",
    "\n",
    "# Random Forest\n",
    "forest = RandomForestClassifier(n_estimators=100, max_depth=5, random_state=42)\n",
    "forest.fit(X_train, y_train)\n",
    "y_pred_forest = forest.predict(X_val)\n",
    "print(f'Random Forest Accuracy: {accuracy_score(y_val, y_pred_forest)}')\n",
    "\n",
    "# Gradient Boosting\n",
    "gb = GradientBoostingClassifier(n_estimators=100, random_state=42)\n",
    "gb.fit(X_train, y_train)\n",
    "y_pred_gb = gb.predict(X_val)\n",
    "print(f'Gradient Boosting Accuracy: {accuracy_score(y_val, y_pred_gb)}')\n",
    "\n",
    "# Make predictions on the test set for each model\n",
    "# Logistic Regression\n",
    "logreg_predictions = pipeline_logreg.predict(X_test)\n",
    "logreg_output = pd.DataFrame({'PassengerId': test_data.PassengerId, 'Survived': logreg_predictions})\n",
    "logreg_output.to_csv('submission_logreg.csv', index=False)\n",
    "\n",
    "# Decision Tree\n",
    "tree_predictions = tree.predict(X_test)\n",
    "tree_output = pd.DataFrame({'PassengerId': test_data.PassengerId, 'Survived': tree_predictions})\n",
    "tree_output.to_csv('submission_tree.csv', index=False)\n",
    "\n",
    "# Random Forest\n",
    "forest_predictions = forest.predict(X_test)\n",
    "forest_output = pd.DataFrame({'PassengerId': test_data.PassengerId, 'Survived': forest_predictions})\n",
    "forest_output.to_csv('submission_forest.csv', index=False)\n",
    "\n",
    "# Gradient Boosting\n",
    "gb_predictions = gb.predict(X_test)\n",
    "gb_output = pd.DataFrame({'PassengerId': test_data.PassengerId, 'Survived': gb_predictions})\n",
    "gb_output.to_csv('submission_gb.csv', index=False)\n",
    "\n",
    "print(\"Your submissions were successfully saved!\")\n"
   ]
  },
  {
   "cell_type": "code",
   "execution_count": null,
   "id": "608d4921",
   "metadata": {
    "papermill": {
     "duration": 0.010504,
     "end_time": "2024-07-19T10:44:47.566544",
     "exception": false,
     "start_time": "2024-07-19T10:44:47.556040",
     "status": "completed"
    },
    "tags": []
   },
   "outputs": [],
   "source": []
  }
 ],
 "metadata": {
  "kaggle": {
   "accelerator": "none",
   "dataSources": [
    {
     "databundleVersionId": 26502,
     "sourceId": 3136,
     "sourceType": "competition"
    }
   ],
   "dockerImageVersionId": 30732,
   "isGpuEnabled": false,
   "isInternetEnabled": true,
   "language": "python",
   "sourceType": "notebook"
  },
  "kernelspec": {
   "display_name": "Python 3 (ipykernel)",
   "language": "python",
   "name": "python3"
  },
  "language_info": {
   "codemirror_mode": {
    "name": "ipython",
    "version": 3
   },
   "file_extension": ".py",
   "mimetype": "text/x-python",
   "name": "python",
   "nbconvert_exporter": "python",
   "pygments_lexer": "ipython3",
   "version": "3.11.8"
  },
  "papermill": {
   "default_parameters": {},
   "duration": 10.151192,
   "end_time": "2024-07-19T10:44:48.300600",
   "environment_variables": {},
   "exception": null,
   "input_path": "__notebook__.ipynb",
   "output_path": "__notebook__.ipynb",
   "parameters": {},
   "start_time": "2024-07-19T10:44:38.149408",
   "version": "2.5.0"
  }
 },
 "nbformat": 4,
 "nbformat_minor": 5
}
